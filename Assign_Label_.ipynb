{
 "cells": [
  {
   "cell_type": "markdown",
   "id": "05339946",
   "metadata": {},
   "source": [
    "# TRANSCRIPTIONS => TEXT & LABEL(excel)"
   ]
  },
  {
   "cell_type": "code",
   "execution_count": 10,
   "id": "6727ffea",
   "metadata": {},
   "outputs": [
    {
     "name": "stdout",
     "output_type": "stream",
     "text": [
      "                                                Text  Label\n",
      "0                                  Hi, I need an ID.      6\n",
      "1  ahh Yeah, this is the wrong line.  I'm sorry. ...      6\n",
      "2                                                No.      6\n",
      "3  Okay, I'm sorry, but I just stood in this line...      6\n",
      "4  I mean, there's really nothing I can do for yo...      6\n"
     ]
    }
   ],
   "source": [
    "import re\n",
    "import pandas as pd\n",
    "import os\n",
    "\n",
    "# Step 1: Read the Text Files\n",
    "directory_path = 'C:\\\\Users\\\\prana\\\\OneDrive\\\\Desktop\\\\IIT B\\\\transcriptions s5'  # Update with the directory containing text files\n",
    "file_names = [f for f in os.listdir(directory_path) if f.endswith('.txt')]\n",
    "\n",
    "all_sentences = []\n",
    "\n",
    "for file_name in file_names:\n",
    "    file_path = os.path.join(directory_path, file_name)\n",
    "    with open(file_path, 'r') as file:\n",
    "        lines = file.readlines()\n",
    "    \n",
    "    # Step 2: Extract Sentences\n",
    "    def extract_sentence(line):\n",
    "        match = re.search(r']:\\s*(.*)', line)\n",
    "        if match:\n",
    "            return match.group(1)\n",
    "        return None\n",
    "    \n",
    "    sentences = [extract_sentence(line) for line in lines if extract_sentence(line)]\n",
    "    all_sentences.extend(sentences)\n",
    "\n",
    "# Step 3: Classify Emotions (Placeholder function)\n",
    "def classify_emotion(sentence):\n",
    "    # Placeholder: Replace with actual emotion classification logic\n",
    "    emotions = {\n",
    "        \"sadness\": 0,\n",
    "        \"joy\": 1,\n",
    "        \"love\": 2,\n",
    "        \"anger\": 3,\n",
    "        \"fear\": 4,\n",
    "        \"surprise\": 5,\n",
    "        \"neutral\": 6\n",
    "    }\n",
    "    # Simple mock logic for demonstration purposes\n",
    "    if \"?\" in sentence or \"!\" in sentence:\n",
    "        return emotions[\"surprise\"]\n",
    "    if any(word in sentence.lower() for word in [\"love\", \"dear\", \"sweet\", \"affection\", \"fond\", \"adore\"]):\n",
    "        return emotions[\"love\"]\n",
    "    if any(word in sentence.lower() for word in [\"happy\", \"joy\", \"excited\", \"glad\", \"delighted\", \"pleased\"]):\n",
    "        return emotions[\"joy\"]\n",
    "    if any(word in sentence.lower() for word in [\"sad\", \"cry\", \"upset\", \"unhappy\", \"sorrow\", \"depressed\", \"mourn\"]):\n",
    "        return emotions[\"sadness\"]\n",
    "    if any(word in sentence.lower() for word in [\"angry\", \"mad\", \"furious\", \"irate\", \"annoyed\", \"irritated\"]):\n",
    "        return emotions[\"anger\"]\n",
    "    if any(word in sentence.lower() for word in [\"fear\", \"scared\", \"afraid\", \"terrified\", \"frightened\", \"anxious\"]):\n",
    "        return emotions[\"fear\"]\n",
    "    return emotions[\"neutral\"]\n",
    "\n",
    "emotions = [classify_emotion(sentence) for sentence in all_sentences]\n",
    "\n",
    "# Step 4: Create DataFrame\n",
    "df = pd.DataFrame({\n",
    "    'Text': all_sentences,\n",
    "    'Label': emotions\n",
    "})\n",
    "\n",
    "output_path = 'C:\\\\Users\\\\prana\\\\OneDrive\\\\Desktop\\\\IIT B\\\\dc5.xlsx'  # Update with the desired output file path\n",
    "df.to_excel(output_path, index=False)\n",
    "\n",
    "# Display the DataFrame\n",
    "print(df.head())"
   ]
  },
  {
   "cell_type": "markdown",
   "id": "088b521a",
   "metadata": {},
   "source": [
    "## There for 5 transcriptions 5 excel"
   ]
  }
 ],
 "metadata": {
  "kernelspec": {
   "display_name": "Python 3 (ipykernel)",
   "language": "python",
   "name": "python3"
  },
  "language_info": {
   "codemirror_mode": {
    "name": "ipython",
    "version": 3
   },
   "file_extension": ".py",
   "mimetype": "text/x-python",
   "name": "python",
   "nbconvert_exporter": "python",
   "pygments_lexer": "ipython3",
   "version": "3.9.13"
  }
 },
 "nbformat": 4,
 "nbformat_minor": 5
}
