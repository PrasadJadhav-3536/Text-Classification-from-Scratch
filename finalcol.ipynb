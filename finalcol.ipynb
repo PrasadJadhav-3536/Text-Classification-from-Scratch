{
  "nbformat": 4,
  "nbformat_minor": 0,
  "metadata": {
    "colab": {
      "provenance": []
    },
    "kernelspec": {
      "name": "python3",
      "display_name": "Python 3"
    },
    "language_info": {
      "name": "python"
    }
  },
  "cells": [
    {
      "cell_type": "code",
      "execution_count": 1,
      "metadata": {
        "colab": {
          "base_uri": "https://localhost:8080/"
        },
        "id": "gNU3lwfnsFYY",
        "outputId": "8de80526-e942-428d-f16e-e7f586dc5080"
      },
      "outputs": [
        {
          "output_type": "stream",
          "name": "stderr",
          "text": [
            "[nltk_data] Downloading package stopwords to /root/nltk_data...\n",
            "[nltk_data]   Unzipping corpora/stopwords.zip.\n",
            "[nltk_data] Downloading package wordnet to /root/nltk_data...\n"
          ]
        },
        {
          "output_type": "stream",
          "name": "stdout",
          "text": [
            "Epoch 1/10\n",
            "162/162 [==============================] - 119s 686ms/step - loss: 1.5484 - accuracy: 0.4938 - val_loss: 1.4074 - val_accuracy: 0.5301 - lr: 0.0010\n",
            "Epoch 2/10\n"
          ]
        },
        {
          "output_type": "stream",
          "name": "stderr",
          "text": [
            "/usr/local/lib/python3.10/dist-packages/keras/src/engine/training.py:3103: UserWarning: You are saving your model as an HDF5 file via `model.save()`. This file format is considered legacy. We recommend using instead the native Keras format, e.g. `model.save('my_model.keras')`.\n",
            "  saving_api.save_model(\n"
          ]
        },
        {
          "output_type": "stream",
          "name": "stdout",
          "text": [
            "162/162 [==============================] - 108s 670ms/step - loss: 1.1887 - accuracy: 0.6026 - val_loss: 1.1566 - val_accuracy: 0.6206 - lr: 0.0010\n",
            "Epoch 3/10\n",
            "162/162 [==============================] - 109s 671ms/step - loss: 0.8863 - accuracy: 0.7120 - val_loss: 1.1120 - val_accuracy: 0.6414 - lr: 0.0010\n",
            "Epoch 4/10\n",
            "162/162 [==============================] - 103s 634ms/step - loss: 0.7083 - accuracy: 0.7723 - val_loss: 1.1238 - val_accuracy: 0.6476 - lr: 0.0010\n",
            "Epoch 5/10\n",
            "162/162 [==============================] - 108s 669ms/step - loss: 0.5891 - accuracy: 0.8125 - val_loss: 1.1821 - val_accuracy: 0.6437 - lr: 0.0010\n",
            "Epoch 6/10\n",
            "162/162 [==============================] - 109s 672ms/step - loss: 0.5178 - accuracy: 0.8290 - val_loss: 1.1944 - val_accuracy: 0.6414 - lr: 0.0010\n",
            "Epoch 6: early stopping\n",
            "Accuracy: 0.6526576280593872\n",
            "1/1 [==============================] - 3s 3s/step\n",
            "Text: I love spending time with you!\n",
            "Predicted Emotion: joy\n"
          ]
        }
      ],
      "source": [
        "import pandas as pd\n",
        "from sklearn.model_selection import train_test_split\n",
        "from sklearn.preprocessing import LabelEncoder\n",
        "from tensorflow.keras.models import Sequential\n",
        "from tensorflow.keras.layers import LSTM, Embedding, Dense, Dropout, Bidirectional\n",
        "from tensorflow.keras.preprocessing.text import Tokenizer\n",
        "from tensorflow.keras.preprocessing.sequence import pad_sequences\n",
        "from tensorflow.keras.callbacks import EarlyStopping, ModelCheckpoint, ReduceLROnPlateau\n",
        "from nltk.corpus import stopwords\n",
        "from nltk.stem import WordNetLemmatizer\n",
        "import nltk\n",
        "import string\n",
        "import numpy as np\n",
        "\n",
        "# Download NLTK stopwords and wordnet\n",
        "nltk.download('stopwords')\n",
        "nltk.download('wordnet')\n",
        "\n",
        "# Define the emotions\n",
        "emotions = [\"anger\", \"disgust\", \"fear\", \"joy\", \"sadness\", \"surprise\", \"neutral\", \"love\"]\n",
        "\n",
        "# Load the dataset\n",
        "data = pd.read_csv(\"output.csv\")\n",
        "df = pd.DataFrame(data)\n",
        "Text = df[\"Text\"]\n",
        "\n",
        "# Preprocess text data\n",
        "stop_words = set(stopwords.words('english'))\n",
        "lemmatizer = WordNetLemmatizer()\n",
        "\n",
        "def preprocess_text(text):\n",
        "    text = text.lower()\n",
        "    text = ''.join([char for char in text if char not in string.punctuation])\n",
        "    words = text.split()\n",
        "    words = [lemmatizer.lemmatize(word) for word in words if word not in stop_words]\n",
        "    return ' '.join(words)\n",
        "\n",
        "df['Text'] = df['Text'].apply(preprocess_text)\n",
        "\n",
        "# Encode the labels\n",
        "label_encoder = LabelEncoder()\n",
        "df['emotion'] = label_encoder.fit_transform(df['emotion'])\n",
        "\n",
        "# Split dataset into training and testing sets\n",
        "X_train, X_test, y_train, y_test = train_test_split(df['Text'], df['emotion'], test_size=0.2, random_state=42)\n",
        "\n",
        "# Tokenize the text data\n",
        "tokenizer = Tokenizer(num_words=5000)\n",
        "tokenizer.fit_on_texts(X_train)\n",
        "X_train = tokenizer.texts_to_sequences(X_train)\n",
        "X_test = tokenizer.texts_to_sequences(X_test)\n",
        "\n",
        "# Pad the sequences\n",
        "maxlen = 100\n",
        "X_train = pad_sequences(X_train, padding='post', maxlen=maxlen)\n",
        "X_test = pad_sequences(X_test, padding='post', maxlen=maxlen)\n",
        "\n",
        "# Define the model\n",
        "model = Sequential()\n",
        "model.add(Embedding(input_dim=5000, output_dim=100, input_length=maxlen))\n",
        "model.add(Bidirectional(LSTM(128, return_sequences=True)))\n",
        "model.add(Dropout(0.5))\n",
        "model.add(Bidirectional(LSTM(64)))\n",
        "model.add(Dense(len(emotions), activation='softmax'))\n",
        "\n",
        "model.compile(loss='sparse_categorical_crossentropy', optimizer='adam', metrics=['accuracy'])\n",
        "\n",
        "# Define early stopping and model checkpoint\n",
        "checkpoint = ModelCheckpoint('best_model.h5', monitor='val_loss', save_best_only=True, mode='min')\n",
        "earlyStopping = EarlyStopping(monitor='val_loss', patience=3, verbose=1, mode='min')\n",
        "reduce_lr = ReduceLROnPlateau(monitor='val_loss', factor=0.2, patience=2, min_lr=0.001)\n",
        "\n",
        "# Train the model\n",
        "model.fit(X_train, y_train, epochs=10, batch_size=32, validation_split=0.2, callbacks=[checkpoint, earlyStopping, reduce_lr])\n",
        "\n",
        "# Load the best model\n",
        "model.load_weights('best_model.h5')\n",
        "\n",
        "# Evaluate the model\n",
        "loss, accuracy = model.evaluate(X_test, y_test, verbose=0)\n",
        "print(f'Accuracy: {accuracy}')\n",
        "\n",
        "# Function to classify new text\n",
        "def classify_text(text):\n",
        "    text = preprocess_text(text)\n",
        "    sequence = tokenizer.texts_to_sequences([text])\n",
        "    padded_sequence = pad_sequences(sequence, padding='post', maxlen=maxlen)\n",
        "    prediction = model.predict(padded_sequence)\n",
        "    emotion = label_encoder.inverse_transform([prediction.argmax()])\n",
        "    return emotion[0]\n",
        "\n",
        "# Example usage\n",
        "new_text = \"I love spending time with you!\"\n",
        "predicted_emotion = classify_text(new_text)\n",
        "print(f\"Text: {new_text}\")\n",
        "print(f\"Predicted Emotion: {predicted_emotion}\")\n"
      ]
    },
    {
      "cell_type": "code",
      "source": [],
      "metadata": {
        "id": "sihp3jRLvxx3"
      },
      "execution_count": null,
      "outputs": []
    },
    {
      "cell_type": "code",
      "source": [
        "# Example usage\n",
        "new_text = \"I hate that\"\n",
        "predicted_emotion = classify_text(new_text)\n",
        "print(f\"Text: {new_text}\")\n",
        "print(f\"Predicted Emotion: {predicted_emotion}\")"
      ],
      "metadata": {
        "colab": {
          "base_uri": "https://localhost:8080/"
        },
        "id": "z-eYPhzPvx0v",
        "outputId": "6067d5c3-0157-4966-fa45-b5e11cb4e8ef"
      },
      "execution_count": 2,
      "outputs": [
        {
          "output_type": "stream",
          "name": "stdout",
          "text": [
            "1/1 [==============================] - 0s 59ms/step\n",
            "Text: I hate that\n",
            "Predicted Emotion: anger\n"
          ]
        }
      ]
    },
    {
      "cell_type": "code",
      "source": [
        "# Example usage\n",
        "new_text = \"he love daisee\"\n",
        "predicted_emotion = classify_text(new_text)\n",
        "print(f\"Text: {new_text}\")\n",
        "print(f\"Predicted Emotion: {predicted_emotion}\")"
      ],
      "metadata": {
        "colab": {
          "base_uri": "https://localhost:8080/"
        },
        "id": "3IBIxJqSvx4G",
        "outputId": "580d4e7e-7b61-4891-cbe7-c6d6f5715181"
      },
      "execution_count": 3,
      "outputs": [
        {
          "output_type": "stream",
          "name": "stdout",
          "text": [
            "1/1 [==============================] - 0s 62ms/step\n",
            "Text: he love daisee\n",
            "Predicted Emotion: joy\n"
          ]
        }
      ]
    },
    {
      "cell_type": "code",
      "source": [
        "# Example usage\n",
        "new_text = \"get lost\"\n",
        "predicted_emotion = classify_text(new_text)\n",
        "print(f\"Text: {new_text}\")\n",
        "print(f\"Predicted Emotion: {predicted_emotion}\")"
      ],
      "metadata": {
        "colab": {
          "base_uri": "https://localhost:8080/"
        },
        "id": "oa54Q6xNwD3A",
        "outputId": "bb66568c-e017-4239-9a7e-9d7bb4f09dad"
      },
      "execution_count": 4,
      "outputs": [
        {
          "output_type": "stream",
          "name": "stdout",
          "text": [
            "1/1 [==============================] - 0s 117ms/step\n",
            "Text: get lost\n",
            "Predicted Emotion: surprise\n"
          ]
        }
      ]
    },
    {
      "cell_type": "code",
      "source": [
        "# Example usage\n",
        "new_text = \"You'll videotape everything, yeah?\"\n",
        "predicted_emotion = classify_text(new_text)\n",
        "print(f\"Text: {new_text}\")\n",
        "print(f\"Predicted Emotion: {predicted_emotion}\")"
      ],
      "metadata": {
        "colab": {
          "base_uri": "https://localhost:8080/"
        },
        "id": "rJmC5djiwEGb",
        "outputId": "c36586b1-1688-4c87-dcfb-e4aed98ef04e"
      },
      "execution_count": 5,
      "outputs": [
        {
          "output_type": "stream",
          "name": "stdout",
          "text": [
            "1/1 [==============================] - 0s 62ms/step\n",
            "Text: You'll videotape everything, yeah?\n",
            "Predicted Emotion: sadness\n"
          ]
        }
      ]
    }
  ]
}